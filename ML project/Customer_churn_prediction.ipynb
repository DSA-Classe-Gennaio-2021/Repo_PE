{
 "cells": [
  {
   "cell_type": "code",
   "execution_count": 1,
   "metadata": {},
   "outputs": [],
   "source": [
    "import pandas as pd\n",
    "import numpy as np\n",
    "import matplotlib.pyplot as plt\n",
    "import seaborn as sns\n",
    "%matplotlib inline"
   ]
  },
  {
   "cell_type": "code",
   "execution_count": 2,
   "metadata": {},
   "outputs": [],
   "source": [
    "df = pd.read_csv('train.csv')"
   ]
  },
  {
   "cell_type": "code",
   "execution_count": 3,
   "metadata": {},
   "outputs": [
    {
     "data": {
      "text/html": [
       "<div>\n",
       "<style scoped>\n",
       "    .dataframe tbody tr th:only-of-type {\n",
       "        vertical-align: middle;\n",
       "    }\n",
       "\n",
       "    .dataframe tbody tr th {\n",
       "        vertical-align: top;\n",
       "    }\n",
       "\n",
       "    .dataframe thead th {\n",
       "        text-align: right;\n",
       "    }\n",
       "</style>\n",
       "<table border=\"1\" class=\"dataframe\">\n",
       "  <thead>\n",
       "    <tr style=\"text-align: right;\">\n",
       "      <th></th>\n",
       "      <th>state</th>\n",
       "      <th>account_length</th>\n",
       "      <th>area_code</th>\n",
       "      <th>international_plan</th>\n",
       "      <th>voice_mail_plan</th>\n",
       "      <th>number_vmail_messages</th>\n",
       "      <th>total_day_minutes</th>\n",
       "      <th>total_day_calls</th>\n",
       "      <th>total_day_charge</th>\n",
       "      <th>total_eve_minutes</th>\n",
       "      <th>total_eve_calls</th>\n",
       "      <th>total_eve_charge</th>\n",
       "      <th>total_night_minutes</th>\n",
       "      <th>total_night_calls</th>\n",
       "      <th>total_night_charge</th>\n",
       "      <th>total_intl_minutes</th>\n",
       "      <th>total_intl_calls</th>\n",
       "      <th>total_intl_charge</th>\n",
       "      <th>number_customer_service_calls</th>\n",
       "      <th>churn</th>\n",
       "    </tr>\n",
       "  </thead>\n",
       "  <tbody>\n",
       "    <tr>\n",
       "      <th>0</th>\n",
       "      <td>OH</td>\n",
       "      <td>107</td>\n",
       "      <td>area_code_415</td>\n",
       "      <td>no</td>\n",
       "      <td>yes</td>\n",
       "      <td>26</td>\n",
       "      <td>161.6</td>\n",
       "      <td>123</td>\n",
       "      <td>27.47</td>\n",
       "      <td>195.5</td>\n",
       "      <td>103</td>\n",
       "      <td>16.62</td>\n",
       "      <td>254.4</td>\n",
       "      <td>103</td>\n",
       "      <td>11.45</td>\n",
       "      <td>13.7</td>\n",
       "      <td>3</td>\n",
       "      <td>3.70</td>\n",
       "      <td>1</td>\n",
       "      <td>no</td>\n",
       "    </tr>\n",
       "    <tr>\n",
       "      <th>1</th>\n",
       "      <td>NJ</td>\n",
       "      <td>137</td>\n",
       "      <td>area_code_415</td>\n",
       "      <td>no</td>\n",
       "      <td>no</td>\n",
       "      <td>0</td>\n",
       "      <td>243.4</td>\n",
       "      <td>114</td>\n",
       "      <td>41.38</td>\n",
       "      <td>121.2</td>\n",
       "      <td>110</td>\n",
       "      <td>10.30</td>\n",
       "      <td>162.6</td>\n",
       "      <td>104</td>\n",
       "      <td>7.32</td>\n",
       "      <td>12.2</td>\n",
       "      <td>5</td>\n",
       "      <td>3.29</td>\n",
       "      <td>0</td>\n",
       "      <td>no</td>\n",
       "    </tr>\n",
       "    <tr>\n",
       "      <th>2</th>\n",
       "      <td>OH</td>\n",
       "      <td>84</td>\n",
       "      <td>area_code_408</td>\n",
       "      <td>yes</td>\n",
       "      <td>no</td>\n",
       "      <td>0</td>\n",
       "      <td>299.4</td>\n",
       "      <td>71</td>\n",
       "      <td>50.90</td>\n",
       "      <td>61.9</td>\n",
       "      <td>88</td>\n",
       "      <td>5.26</td>\n",
       "      <td>196.9</td>\n",
       "      <td>89</td>\n",
       "      <td>8.86</td>\n",
       "      <td>6.6</td>\n",
       "      <td>7</td>\n",
       "      <td>1.78</td>\n",
       "      <td>2</td>\n",
       "      <td>no</td>\n",
       "    </tr>\n",
       "    <tr>\n",
       "      <th>3</th>\n",
       "      <td>OK</td>\n",
       "      <td>75</td>\n",
       "      <td>area_code_415</td>\n",
       "      <td>yes</td>\n",
       "      <td>no</td>\n",
       "      <td>0</td>\n",
       "      <td>166.7</td>\n",
       "      <td>113</td>\n",
       "      <td>28.34</td>\n",
       "      <td>148.3</td>\n",
       "      <td>122</td>\n",
       "      <td>12.61</td>\n",
       "      <td>186.9</td>\n",
       "      <td>121</td>\n",
       "      <td>8.41</td>\n",
       "      <td>10.1</td>\n",
       "      <td>3</td>\n",
       "      <td>2.73</td>\n",
       "      <td>3</td>\n",
       "      <td>no</td>\n",
       "    </tr>\n",
       "    <tr>\n",
       "      <th>4</th>\n",
       "      <td>MA</td>\n",
       "      <td>121</td>\n",
       "      <td>area_code_510</td>\n",
       "      <td>no</td>\n",
       "      <td>yes</td>\n",
       "      <td>24</td>\n",
       "      <td>218.2</td>\n",
       "      <td>88</td>\n",
       "      <td>37.09</td>\n",
       "      <td>348.5</td>\n",
       "      <td>108</td>\n",
       "      <td>29.62</td>\n",
       "      <td>212.6</td>\n",
       "      <td>118</td>\n",
       "      <td>9.57</td>\n",
       "      <td>7.5</td>\n",
       "      <td>7</td>\n",
       "      <td>2.03</td>\n",
       "      <td>3</td>\n",
       "      <td>no</td>\n",
       "    </tr>\n",
       "  </tbody>\n",
       "</table>\n",
       "</div>"
      ],
      "text/plain": [
       "  state  account_length      area_code international_plan voice_mail_plan  \\\n",
       "0    OH             107  area_code_415                 no             yes   \n",
       "1    NJ             137  area_code_415                 no              no   \n",
       "2    OH              84  area_code_408                yes              no   \n",
       "3    OK              75  area_code_415                yes              no   \n",
       "4    MA             121  area_code_510                 no             yes   \n",
       "\n",
       "   number_vmail_messages  total_day_minutes  total_day_calls  \\\n",
       "0                     26              161.6              123   \n",
       "1                      0              243.4              114   \n",
       "2                      0              299.4               71   \n",
       "3                      0              166.7              113   \n",
       "4                     24              218.2               88   \n",
       "\n",
       "   total_day_charge  total_eve_minutes  total_eve_calls  total_eve_charge  \\\n",
       "0             27.47              195.5              103             16.62   \n",
       "1             41.38              121.2              110             10.30   \n",
       "2             50.90               61.9               88              5.26   \n",
       "3             28.34              148.3              122             12.61   \n",
       "4             37.09              348.5              108             29.62   \n",
       "\n",
       "   total_night_minutes  total_night_calls  total_night_charge  \\\n",
       "0                254.4                103               11.45   \n",
       "1                162.6                104                7.32   \n",
       "2                196.9                 89                8.86   \n",
       "3                186.9                121                8.41   \n",
       "4                212.6                118                9.57   \n",
       "\n",
       "   total_intl_minutes  total_intl_calls  total_intl_charge  \\\n",
       "0                13.7                 3               3.70   \n",
       "1                12.2                 5               3.29   \n",
       "2                 6.6                 7               1.78   \n",
       "3                10.1                 3               2.73   \n",
       "4                 7.5                 7               2.03   \n",
       "\n",
       "   number_customer_service_calls churn  \n",
       "0                              1    no  \n",
       "1                              0    no  \n",
       "2                              2    no  \n",
       "3                              3    no  \n",
       "4                              3    no  "
      ]
     },
     "execution_count": 3,
     "metadata": {},
     "output_type": "execute_result"
    }
   ],
   "source": [
    "df.head()"
   ]
  },
  {
   "cell_type": "code",
   "execution_count": 4,
   "metadata": {},
   "outputs": [
    {
     "name": "stdout",
     "output_type": "stream",
     "text": [
      "<class 'pandas.core.frame.DataFrame'>\n",
      "RangeIndex: 4250 entries, 0 to 4249\n",
      "Data columns (total 20 columns):\n",
      " #   Column                         Non-Null Count  Dtype  \n",
      "---  ------                         --------------  -----  \n",
      " 0   state                          4250 non-null   object \n",
      " 1   account_length                 4250 non-null   int64  \n",
      " 2   area_code                      4250 non-null   object \n",
      " 3   international_plan             4250 non-null   object \n",
      " 4   voice_mail_plan                4250 non-null   object \n",
      " 5   number_vmail_messages          4250 non-null   int64  \n",
      " 6   total_day_minutes              4250 non-null   float64\n",
      " 7   total_day_calls                4250 non-null   int64  \n",
      " 8   total_day_charge               4250 non-null   float64\n",
      " 9   total_eve_minutes              4250 non-null   float64\n",
      " 10  total_eve_calls                4250 non-null   int64  \n",
      " 11  total_eve_charge               4250 non-null   float64\n",
      " 12  total_night_minutes            4250 non-null   float64\n",
      " 13  total_night_calls              4250 non-null   int64  \n",
      " 14  total_night_charge             4250 non-null   float64\n",
      " 15  total_intl_minutes             4250 non-null   float64\n",
      " 16  total_intl_calls               4250 non-null   int64  \n",
      " 17  total_intl_charge              4250 non-null   float64\n",
      " 18  number_customer_service_calls  4250 non-null   int64  \n",
      " 19  churn                          4250 non-null   object \n",
      "dtypes: float64(8), int64(7), object(5)\n",
      "memory usage: 664.2+ KB\n"
     ]
    }
   ],
   "source": [
    "df.info()"
   ]
  },
  {
   "cell_type": "code",
   "execution_count": 5,
   "metadata": {},
   "outputs": [
    {
     "data": {
      "text/plain": [
       "account_length                   1575.963008\n",
       "number_vmail_messages             180.630433\n",
       "total_day_minutes                2917.336473\n",
       "total_day_calls                   394.054948\n",
       "total_day_charge                   84.310888\n",
       "total_eve_minutes                2525.014078\n",
       "total_eve_calls                   396.352000\n",
       "total_eve_charge                   18.243252\n",
       "total_night_minutes              2535.479804\n",
       "total_night_calls                 403.737482\n",
       "total_night_charge                  5.134402\n",
       "total_intl_minutes                  7.618162\n",
       "total_intl_calls                    6.066709\n",
       "total_intl_charge                   0.555329\n",
       "number_customer_service_calls       1.719858\n",
       "dtype: float64"
      ]
     },
     "execution_count": 5,
     "metadata": {},
     "output_type": "execute_result"
    }
   ],
   "source": [
    "df.var()"
   ]
  },
  {
   "cell_type": "markdown",
   "metadata": {},
   "source": [
    "Looks like 4 columns have high variance and would possibly benefit some kind of normalization"
   ]
  },
  {
   "cell_type": "code",
   "execution_count": 6,
   "metadata": {},
   "outputs": [
    {
     "data": {
      "image/png": "[encoded data removed]",
      "text/plain": [
       "<Figure size 432x288 with 2 Axes>"
      ]
     },
     "metadata": {
      "needs_background": "light"
     },
     "output_type": "display_data"
    }
   ],
   "source": [
    "sns.heatmap(df.corr(),cmap='BuGn');"
   ]
  },
  {
   "cell_type": "markdown",
   "metadata": {},
   "source": [
    "Looks like there is multicollinearity among certain numerical features, hence some will be dropped"
   ]
  },
  {
   "cell_type": "code",
   "execution_count": 7,
   "metadata": {},
   "outputs": [],
   "source": [
    "df = df.copy()\n",
    "df.drop(['total_day_charge','total_eve_charge','total_night_charge','total_intl_charge'],axis=1,inplace=True)"
   ]
  },
  {
   "cell_type": "code",
   "execution_count": 8,
   "metadata": {},
   "outputs": [
    {
     "data": {
      "text/html": [
       "<div>\n",
       "<style scoped>\n",
       "    .dataframe tbody tr th:only-of-type {\n",
       "        vertical-align: middle;\n",
       "    }\n",
       "\n",
       "    .dataframe tbody tr th {\n",
       "        vertical-align: top;\n",
       "    }\n",
       "\n",
       "    .dataframe thead th {\n",
       "        text-align: right;\n",
       "    }\n",
       "</style>\n",
       "<table border=\"1\" class=\"dataframe\">\n",
       "  <thead>\n",
       "    <tr style=\"text-align: right;\">\n",
       "      <th></th>\n",
       "      <th>state</th>\n",
       "      <th>account_length</th>\n",
       "      <th>area_code</th>\n",
       "      <th>international_plan</th>\n",
       "      <th>voice_mail_plan</th>\n",
       "      <th>number_vmail_messages</th>\n",
       "      <th>total_day_minutes</th>\n",
       "      <th>total_day_calls</th>\n",
       "      <th>total_eve_minutes</th>\n",
       "      <th>total_eve_calls</th>\n",
       "      <th>total_night_minutes</th>\n",
       "      <th>total_night_calls</th>\n",
       "      <th>total_intl_minutes</th>\n",
       "      <th>total_intl_calls</th>\n",
       "      <th>number_customer_service_calls</th>\n",
       "      <th>churn</th>\n",
       "    </tr>\n",
       "  </thead>\n",
       "  <tbody>\n",
       "    <tr>\n",
       "      <th>0</th>\n",
       "      <td>OH</td>\n",
       "      <td>107</td>\n",
       "      <td>area_code_415</td>\n",
       "      <td>no</td>\n",
       "      <td>yes</td>\n",
       "      <td>26</td>\n",
       "      <td>161.6</td>\n",
       "      <td>123</td>\n",
       "      <td>195.5</td>\n",
       "      <td>103</td>\n",
       "      <td>254.4</td>\n",
       "      <td>103</td>\n",
       "      <td>13.7</td>\n",
       "      <td>3</td>\n",
       "      <td>1</td>\n",
       "      <td>no</td>\n",
       "    </tr>\n",
       "    <tr>\n",
       "      <th>1</th>\n",
       "      <td>NJ</td>\n",
       "      <td>137</td>\n",
       "      <td>area_code_415</td>\n",
       "      <td>no</td>\n",
       "      <td>no</td>\n",
       "      <td>0</td>\n",
       "      <td>243.4</td>\n",
       "      <td>114</td>\n",
       "      <td>121.2</td>\n",
       "      <td>110</td>\n",
       "      <td>162.6</td>\n",
       "      <td>104</td>\n",
       "      <td>12.2</td>\n",
       "      <td>5</td>\n",
       "      <td>0</td>\n",
       "      <td>no</td>\n",
       "    </tr>\n",
       "    <tr>\n",
       "      <th>2</th>\n",
       "      <td>OH</td>\n",
       "      <td>84</td>\n",
       "      <td>area_code_408</td>\n",
       "      <td>yes</td>\n",
       "      <td>no</td>\n",
       "      <td>0</td>\n",
       "      <td>299.4</td>\n",
       "      <td>71</td>\n",
       "      <td>61.9</td>\n",
       "      <td>88</td>\n",
       "      <td>196.9</td>\n",
       "      <td>89</td>\n",
       "      <td>6.6</td>\n",
       "      <td>7</td>\n",
       "      <td>2</td>\n",
       "      <td>no</td>\n",
       "    </tr>\n",
       "    <tr>\n",
       "      <th>3</th>\n",
       "      <td>OK</td>\n",
       "      <td>75</td>\n",
       "      <td>area_code_415</td>\n",
       "      <td>yes</td>\n",
       "      <td>no</td>\n",
       "      <td>0</td>\n",
       "      <td>166.7</td>\n",
       "      <td>113</td>\n",
       "      <td>148.3</td>\n",
       "      <td>122</td>\n",
       "      <td>186.9</td>\n",
       "      <td>121</td>\n",
       "      <td>10.1</td>\n",
       "      <td>3</td>\n",
       "      <td>3</td>\n",
       "      <td>no</td>\n",
       "    </tr>\n",
       "    <tr>\n",
       "      <th>4</th>\n",
       "      <td>MA</td>\n",
       "      <td>121</td>\n",
       "      <td>area_code_510</td>\n",
       "      <td>no</td>\n",
       "      <td>yes</td>\n",
       "      <td>24</td>\n",
       "      <td>218.2</td>\n",
       "      <td>88</td>\n",
       "      <td>348.5</td>\n",
       "      <td>108</td>\n",
       "      <td>212.6</td>\n",
       "      <td>118</td>\n",
       "      <td>7.5</td>\n",
       "      <td>7</td>\n",
       "      <td>3</td>\n",
       "      <td>no</td>\n",
       "    </tr>\n",
       "  </tbody>\n",
       "</table>\n",
       "</div>"
      ],
      "text/plain": [
       "  state  account_length      area_code international_plan voice_mail_plan  \\\n",
       "0    OH             107  area_code_415                 no             yes   \n",
       "1    NJ             137  area_code_415                 no              no   \n",
       "2    OH              84  area_code_408                yes              no   \n",
       "3    OK              75  area_code_415                yes              no   \n",
       "4    MA             121  area_code_510                 no             yes   \n",
       "\n",
       "   number_vmail_messages  total_day_minutes  total_day_calls  \\\n",
       "0                     26              161.6              123   \n",
       "1                      0              243.4              114   \n",
       "2                      0              299.4               71   \n",
       "3                      0              166.7              113   \n",
       "4                     24              218.2               88   \n",
       "\n",
       "   total_eve_minutes  total_eve_calls  total_night_minutes  total_night_calls  \\\n",
       "0              195.5              103                254.4                103   \n",
       "1              121.2              110                162.6                104   \n",
       "2               61.9               88                196.9                 89   \n",
       "3              148.3              122                186.9                121   \n",
       "4              348.5              108                212.6                118   \n",
       "\n",
       "   total_intl_minutes  total_intl_calls  number_customer_service_calls churn  \n",
       "0                13.7                 3                              1    no  \n",
       "1                12.2                 5                              0    no  \n",
       "2                 6.6                 7                              2    no  \n",
       "3                10.1                 3                              3    no  \n",
       "4                 7.5                 7                              3    no  "
      ]
     },
     "execution_count": 8,
     "metadata": {},
     "output_type": "execute_result"
    }
   ],
   "source": [
    "df.head()"
   ]
  },
  {
   "cell_type": "code",
   "execution_count": 9,
   "metadata": {},
   "outputs": [
    {
     "data": {
      "text/plain": [
       "(4250, 16)"
      ]
     },
     "execution_count": 9,
     "metadata": {},
     "output_type": "execute_result"
    }
   ],
   "source": [
    "df.shape"
   ]
  },
  {
   "cell_type": "code",
   "execution_count": 10,
   "metadata": {},
   "outputs": [
    {
     "data": {
      "image/png": "[encoded data removed]",
      "text/plain": [
       "<Figure size 432x288 with 1 Axes>"
      ]
     },
     "metadata": {
      "needs_background": "light"
     },
     "output_type": "display_data"
    }
   ],
   "source": [
    "df[df.select_dtypes(['int64','float64']).columns].boxplot()\n",
    "plt.xticks(rotation=90);"
   ]
  },
  {
   "cell_type": "markdown",
   "metadata": {},
   "source": [
    "The boxplot overview suggests that, since some outliers are in, the options are either proceed with the removal or adopt a robust scaling. Let's try out removal"
   ]
  },
  {
   "cell_type": "code",
   "execution_count": 11,
   "metadata": {},
   "outputs": [
    {
     "data": {
      "text/plain": [
       "(3516, 16)"
      ]
     },
     "execution_count": 11,
     "metadata": {},
     "output_type": "execute_result"
    }
   ],
   "source": [
    "cols= list(df.select_dtypes(['int64','float64']).columns)\n",
    "\n",
    "upper_limit = df[cols].quantile(0.75) + 1.5*(df[cols].quantile(0.75)-df[cols].quantile(0.25))\n",
    "lower_limit = df[cols].quantile(0.25) - 1.5*(df[cols].quantile(0.75)-df[cols].quantile(0.25))\n",
    "cleaned_df = df[~((df[cols]>upper_limit)|(df[cols]<lower_limit)).any(axis=1)]\n",
    "cleaned_df.shape"
   ]
  },
  {
   "cell_type": "code",
   "execution_count": 12,
   "metadata": {},
   "outputs": [
    {
     "name": "stdout",
     "output_type": "stream",
     "text": [
      "Percentage of removed data: 17.27\n"
     ]
    }
   ],
   "source": [
    "print('Percentage of removed data: {:.2f}'.format(100-cleaned_df.shape[0]/df.shape[0]*100))"
   ]
  },
  {
   "cell_type": "code",
   "execution_count": 13,
   "metadata": {},
   "outputs": [
    {
     "data": {
      "image/png": "[encoded data removed]",
      "text/plain": [
       "<Figure size 432x288 with 1 Axes>"
      ]
     },
     "metadata": {
      "needs_background": "light"
     },
     "output_type": "display_data"
    },
    {
     "data": {
      "image/png": "[encoded data removed]",
      "text/plain": [
       "<Figure size 432x288 with 1 Axes>"
      ]
     },
     "metadata": {
      "needs_background": "light"
     },
     "output_type": "display_data"
    },
    {
     "data": {
      "image/png": "[encoded data removed]",
      "text/plain": [
       "<Figure size 432x288 with 1 Axes>"
      ]
     },
     "metadata": {
      "needs_background": "light"
     },
     "output_type": "display_data"
    },
    {
     "data": {
      "image/png": "[encoded data removed]",
      "text/plain": [
       "<Figure size 432x288 with 1 Axes>"
      ]
     },
     "metadata": {
      "needs_background": "light"
     },
     "output_type": "display_data"
    },
    {
     "data": {
      "image/png": "[encoded data removed]",
      "text/plain": [
       "<Figure size 432x288 with 1 Axes>"
      ]
     },
     "metadata": {
      "needs_background": "light"
     },
     "output_type": "display_data"
    },
    {
     "data": {
      "image/png": "[encoded data removed]",
      "text/plain": [
       "<Figure size 432x288 with 1 Axes>"
      ]
     },
     "metadata": {
      "needs_background": "light"
     },
     "output_type": "display_data"
    },
    {
     "data": {
      "image/png": "[encoded data removed]",
      "text/plain": [
       "<Figure size 432x288 with 1 Axes>"
      ]
     },
     "metadata": {
      "needs_background": "light"
     },
     "output_type": "display_data"
    },
    {
     "data": {
      "image/png": "[encoded data removed]",
      "text/plain": [
       "<Figure size 432x288 with 1 Axes>"
      ]
     },
     "metadata": {
      "needs_background": "light"
     },
     "output_type": "display_data"
    },
    {
     "data": {
      "image/png": "[encoded data removed]",
      "text/plain": [
       "<Figure size 432x288 with 1 Axes>"
      ]
     },
     "metadata": {
      "needs_background": "light"
     },
     "output_type": "display_data"
    },
    {
     "data": {
      "image/png": "[encoded data removed]",
      "text/plain": [
       "<Figure size 432x288 with 1 Axes>"
      ]
     },
     "metadata": {
      "needs_background": "light"
     },
     "output_type": "display_data"
    },
    {
     "data": {
      "image/png": "[encoded data removed]",
      "text/plain": [
       "<Figure size 432x288 with 1 Axes>"
      ]
     },
     "metadata": {
      "needs_background": "light"
     },
     "output_type": "display_data"
    }
   ],
   "source": [
    "for i in cleaned_df.select_dtypes(['int64','float64']).columns:\n",
    "    sns.histplot(cleaned_df[i]);\n",
    "    plt.show();"
   ]
  },
  {
   "cell_type": "markdown",
   "metadata": {},
   "source": [
    "The majority of numerical features shows a gaussian distribution, hence StandardScaler could be used too. Let's try MinMaxScaler"
   ]
  },
  {
   "cell_type": "code",
   "execution_count": 14,
   "metadata": {},
   "outputs": [],
   "source": [
    "from sklearn.preprocessing import MinMaxScaler\n",
    "scaler = MinMaxScaler()\n",
    "df_scaled = cleaned_df.copy()\n",
    "df_scaled[df_scaled.select_dtypes(['int64','float64']).columns] = scaler.fit_transform(df_scaled[df_scaled.select_dtypes(['int64','float64']).columns])"
   ]
  },
  {
   "cell_type": "markdown",
   "metadata": {},
   "source": [
    "Let's format bynary categorical features and target column as needed"
   ]
  },
  {
   "cell_type": "code",
   "execution_count": 15,
   "metadata": {},
   "outputs": [],
   "source": [
    "df_scaled['international_plan'] = df_scaled.international_plan.apply(lambda x: 1 if x == 'yes' else 0)\n",
    "df_scaled['voice_mail_plan'] = df_scaled.voice_mail_plan.apply(lambda x: 1 if x == 'yes' else 0)\n",
    "df_scaled['churn'] = df_scaled.churn.apply(lambda x: 1 if x == 'yes' else 0)"
   ]
  },
  {
   "cell_type": "code",
   "execution_count": 16,
   "metadata": {},
   "outputs": [],
   "source": [
    "df_scaled = pd.get_dummies(df_scaled)"
   ]
  },
  {
   "cell_type": "code",
   "execution_count": 17,
   "metadata": {},
   "outputs": [
    {
     "data": {
      "text/plain": [
       "0    0.895051\n",
       "1    0.104949\n",
       "Name: churn, dtype: float64"
      ]
     },
     "execution_count": 17,
     "metadata": {},
     "output_type": "execute_result"
    }
   ],
   "source": [
    "df_scaled.churn.value_counts(normalize=True)"
   ]
  },
  {
   "cell_type": "markdown",
   "metadata": {},
   "source": [
    "The target column shows that the dataset is unbalanced, hence stratifying based on this column would be a good choice"
   ]
  },
  {
   "cell_type": "markdown",
   "metadata": {},
   "source": [
    "### KNearestNeighbors"
   ]
  },
  {
   "cell_type": "code",
   "execution_count": 18,
   "metadata": {},
   "outputs": [],
   "source": [
    "from sklearn.neighbors import KNeighborsClassifier\n",
    "from sklearn.model_selection import train_test_split\n",
    "from sklearn.metrics import accuracy_score, roc_curve, roc_auc_score, f1_score, balanced_accuracy_score, precision_recall_curve\n",
    "from sklearn.model_selection import RandomizedSearchCV, cross_val_score"
   ]
  },
  {
   "cell_type": "code",
   "execution_count": 19,
   "metadata": {},
   "outputs": [],
   "source": [
    "X = df_scaled.drop('churn',axis=1).values\n",
    "y = df_scaled.churn.values"
   ]
  },
  {
   "cell_type": "code",
   "execution_count": 20,
   "metadata": {},
   "outputs": [],
   "source": [
    "X_train, X_test, y_train, y_test = train_test_split(X,y,test_size=0.2,stratify=y)"
   ]
  },
  {
   "cell_type": "code",
   "execution_count": 21,
   "metadata": {},
   "outputs": [
    {
     "name": "stdout",
     "output_type": "stream",
     "text": [
      "Metrics: f1\n",
      "Best params: {'n_neighbors': 1}\n",
      "Best score: 0.17486337928498266\n",
      "Metrics: balanced_accuracy\n",
      "Best params: {'n_neighbors': 1}\n",
      "Best score: 0.5416736179549052\n",
      "Metrics: accuracy\n",
      "Best params: {'n_neighbors': 9}\n",
      "Best score: 0.8954488117424768\n",
      "Metrics: roc_auc\n",
      "Best params: {'n_neighbors': 10}\n",
      "Best score: 0.6645843514564781\n"
     ]
    }
   ],
   "source": [
    "params = {'n_neighbors':[i for i in range(1,11)]}\n",
    "knc = KNeighborsClassifier()\n",
    "for i in ['f1','balanced_accuracy','accuracy','roc_auc']:\n",
    "    rcv = RandomizedSearchCV(knc, param_distributions = params, cv=3,scoring = i,random_state=123)\n",
    "    rcv.fit(X_train,y_train)\n",
    "    print('Metrics: {}\\nBest params: {}\\nBest score: {}'.format(i,rcv.best_params_,rcv.best_score_))\n",
    "    "
   ]
  },
  {
   "cell_type": "code",
   "execution_count": 22,
   "metadata": {},
   "outputs": [],
   "source": [
    "knc_f1 = []\n",
    "knc_b_acc = []\n",
    "knc_acc = []\n",
    "knc_auc = []\n",
    "\n",
    "for i in ['f1','balanced_accuracy','accuracy','roc_auc']:\n",
    "    knc = KNeighborsClassifier(n_neighbors=10)\n",
    "    metrics = cross_val_score(knc, X_train, y_train, cv = 10, scoring=i)\n",
    "    if i == 'f1':\n",
    "        knc_f1.append(metrics)\n",
    "    elif i == 'balanced_accuracy':\n",
    "        knc_b_acc.append(metrics)\n",
    "    elif i == 'roc_auc':\n",
    "        knc_auc.append(metrics)\n",
    "    else:\n",
    "        knc_acc.append(metrics)"
   ]
  },
  {
   "cell_type": "code",
   "execution_count": 23,
   "metadata": {},
   "outputs": [
    {
     "data": {
      "image/png": "[encoded data removed]",
      "text/plain": [
       "<Figure size 432x288 with 1 Axes>"
      ]
     },
     "metadata": {
      "needs_background": "light"
     },
     "output_type": "display_data"
    }
   ],
   "source": [
    "plt.bar(['F1','Balanced accuracy','AUC','Accuracy'],[np.mean(knc_f1), np.mean(knc_b_acc), np.mean(knc_auc),np.mean(knc_acc)])\n",
    "plt.title('KNC Metric score (average)');"
   ]
  },
  {
   "cell_type": "code",
   "execution_count": 24,
   "metadata": {},
   "outputs": [],
   "source": [
    "knc_train_acc = []\n",
    "knc_test_acc = []\n",
    "\n",
    "for k in range (1,21):\n",
    "    knc = KNeighborsClassifier(n_neighbors=k)\n",
    "    knc.fit(X_train,y_train)\n",
    "    train_preds = knc.predict(X_train)\n",
    "    test_preds = knc.predict(X_test)\n",
    "    train_acc = accuracy_score(y_train,train_preds)\n",
    "    test_acc = accuracy_score(y_test,test_preds)\n",
    "    knc_train_acc.append(train_acc)\n",
    "    knc_test_acc.append(test_acc)"
   ]
  },
  {
   "cell_type": "code",
   "execution_count": 25,
   "metadata": {},
   "outputs": [
    {
     "data": {
      "image/png": "[encoded data removed]",
      "text/plain": [
       "<Figure size 432x288 with 1 Axes>"
      ]
     },
     "metadata": {
      "needs_background": "light"
     },
     "output_type": "display_data"
    }
   ],
   "source": [
    "plt.plot(range(1,21),knc_train_acc, '-rp')\n",
    "plt.plot(range(1,21),knc_test_acc, '-bp')\n",
    "plt.xlabel('N_neighbors')\n",
    "plt.ylabel('Accuracy')\n",
    "plt.xticks(range(1,21))\n",
    "plt.title('Train vs Test Accuracy with KNC',{'fontsize':15});"
   ]
  },
  {
   "cell_type": "markdown",
   "metadata": {},
   "source": [
    "With K = 8 train accuracy and test accuracy are very close so the model does not seem to overfit"
   ]
  },
  {
   "cell_type": "code",
   "execution_count": 26,
   "metadata": {},
   "outputs": [],
   "source": [
    "knc = KNeighborsClassifier(n_neighbors=8)\n",
    "knc.fit(X_train,y_train)\n",
    "preds_k_8 = knc.predict(X_test)\n",
    "preds_prob_k_8 = knc.predict_proba(X_test)[:,1]\n",
    "fpr_k_8, tpr_k_8, tresholds_k_8 = roc_curve(y_test,preds_prob_k_8)\n",
    "prec_k_8, recall_k_8, tresh_k_8 = precision_recall_curve(y_test,preds_prob_k_8)\n",
    "auc_score_k_8 = roc_auc_score(y_test,preds_prob_k_8)"
   ]
  },
  {
   "cell_type": "markdown",
   "metadata": {},
   "source": [
    "### DecisionTreeClassifier"
   ]
  },
  {
   "cell_type": "code",
   "execution_count": 27,
   "metadata": {},
   "outputs": [],
   "source": [
    "from sklearn.tree import DecisionTreeClassifier\n",
    "dt = DecisionTreeClassifier()"
   ]
  },
  {
   "cell_type": "code",
   "execution_count": 28,
   "metadata": {},
   "outputs": [
    {
     "name": "stdout",
     "output_type": "stream",
     "text": [
      "Metrics: f1\n",
      "Best params: {'min_samples_split': 2, 'min_samples_leaf': 5, 'max_depth': 7}\n",
      "Best score: 0.7361434125923277\n",
      "Metrics: balanced_accuracy\n",
      "Best params: {'min_samples_split': 2, 'min_samples_leaf': 4, 'max_depth': 4}\n",
      "Best score: 0.817571108095542\n",
      "Metrics: accuracy\n",
      "Best params: {'min_samples_split': 3, 'min_samples_leaf': 5, 'max_depth': 7}\n",
      "Best score: 0.9519933493077378\n",
      "Metrics: roc_auc\n",
      "Best params: {'min_samples_split': 2, 'min_samples_leaf': 5, 'max_depth': 5}\n",
      "Best score: 0.8585895850496565\n"
     ]
    }
   ],
   "source": [
    "params = {'min_samples_split':[2,3,4],\n",
    "          'min_samples_leaf':[1,2,3,4,5],\n",
    "          'max_depth':[1,4,5,6,7]}\n",
    "\n",
    "for i in ['f1','balanced_accuracy','accuracy','roc_auc']:\n",
    "    rcv = RandomizedSearchCV(dt, param_distributions = params, cv=3,scoring = i,random_state=123)\n",
    "    rcv.fit(X_train,y_train)\n",
    "    print('Metrics: {}\\nBest params: {}\\nBest score: {}'.format(i,rcv.best_params_,rcv.best_score_))"
   ]
  },
  {
   "cell_type": "code",
   "execution_count": 29,
   "metadata": {},
   "outputs": [],
   "source": [
    "f1_dt = []\n",
    "b_acc_dt = []\n",
    "acc_dt = []\n",
    "auc_dt = []\n",
    "\n",
    "for i in ['f1','balanced_accuracy','accuracy','roc_auc']:\n",
    "    dt = DecisionTreeClassifier(min_samples_split= 3, min_samples_leaf= 5, max_depth = 7)\n",
    "    metrics = cross_val_score(dt, X_train, y_train, cv = 10, scoring=i)\n",
    "    if i == 'f1':\n",
    "        f1_dt.append(metrics)\n",
    "    elif i == 'balanced_accuracy':\n",
    "        b_acc_dt.append(metrics)\n",
    "    elif i == 'roc_auc':\n",
    "        auc_dt.append(metrics)\n",
    "    else:\n",
    "        acc_dt.append(metrics)"
   ]
  },
  {
   "cell_type": "code",
   "execution_count": 30,
   "metadata": {},
   "outputs": [
    {
     "data": {
      "image/png": "[encoded data removed]",
      "text/plain": [
       "<Figure size 432x288 with 1 Axes>"
      ]
     },
     "metadata": {
      "needs_background": "light"
     },
     "output_type": "display_data"
    }
   ],
   "source": [
    "plt.bar(['F1','Balanced accuracy','AUC','Accuracy'],[np.mean(f1_dt), np.mean(b_acc_dt),np.mean(auc_dt),np.mean(acc_dt)])\n",
    "plt.yticks([0.1,0.2,0.3,0.4,0.5,0.6,0.7,0.8,0.9,1])\n",
    "plt.title('DT Metric score (average)');"
   ]
  },
  {
   "cell_type": "code",
   "execution_count": 31,
   "metadata": {},
   "outputs": [],
   "source": [
    "dt = DecisionTreeClassifier(min_samples_split= 3, min_samples_leaf= 5, max_depth = 7)\n",
    "dt.fit(X_train,y_train)\n",
    "preds_dt = dt.predict(X_test)\n",
    "preds_prob_dt = dt.predict_proba(X_test)[:,1]\n",
    "fpr_dt, tpr_dt, tresholds_dt = roc_curve(y_test,preds_prob_dt)\n",
    "prec_dt, recall_dt, tresh_dt = precision_recall_curve(y_test,preds_prob_dt)\n",
    "auc_score_dt = roc_auc_score(y_test,preds_prob_dt)"
   ]
  },
  {
   "cell_type": "markdown",
   "metadata": {},
   "source": [
    "### LogisticRegression"
   ]
  },
  {
   "cell_type": "code",
   "execution_count": 32,
   "metadata": {},
   "outputs": [],
   "source": [
    "from sklearn.linear_model import LogisticRegression\n",
    "lr = LogisticRegression()"
   ]
  },
  {
   "cell_type": "code",
   "execution_count": 33,
   "metadata": {},
   "outputs": [
    {
     "name": "stdout",
     "output_type": "stream",
     "text": [
      "Metrics: f1\n",
      "Best params: {'max_iter': 600, 'C': 150}\n",
      "Best score: 0.5167947844924513\n",
      "Metrics: balanced_accuracy\n",
      "Best params: {'max_iter': 600, 'C': 150}\n",
      "Best score: 0.6947310545556756\n",
      "Metrics: accuracy\n",
      "Best params: {'max_iter': 600, 'C': 150}\n",
      "Best score: 0.919631526769264\n",
      "Metrics: roc_auc\n",
      "Best params: {'max_iter': 600, 'C': 1}\n",
      "Best score: 0.8627687118237093\n"
     ]
    }
   ],
   "source": [
    "params = {'C':[0.1,1,10,15,20,30,100,150,200], 'max_iter':[400,500,600]}\n",
    "\n",
    "for i in ['f1','balanced_accuracy','accuracy','roc_auc']:\n",
    "    rcv = RandomizedSearchCV(lr, param_distributions = params, cv=3,scoring = i,random_state=123)\n",
    "    rcv.fit(X_train,y_train)\n",
    "    print('Metrics: {}\\nBest params: {}\\nBest score: {}'.format(i,rcv.best_params_,rcv.best_score_))"
   ]
  },
  {
   "cell_type": "code",
   "execution_count": 34,
   "metadata": {},
   "outputs": [],
   "source": [
    "f1_lr = []\n",
    "b_acc_lr = []\n",
    "acc_lr = []\n",
    "auc_lr = []\n",
    "\n",
    "for i in ['f1','balanced_accuracy','accuracy','roc_auc']:\n",
    "    lr = LogisticRegression(C = 150, max_iter=600)\n",
    "    metrics = cross_val_score(lr, X_train, y_train, cv = 4, scoring=i)\n",
    "    if i == 'f1':\n",
    "        f1_lr.append(metrics)\n",
    "    elif i == 'balanced_accuracy':\n",
    "        b_acc_lr.append(metrics)\n",
    "    elif i == 'roc_auc':\n",
    "        auc_lr.append(metrics)\n",
    "    else:\n",
    "        acc_lr.append(metrics)"
   ]
  },
  {
   "cell_type": "code",
   "execution_count": 35,
   "metadata": {},
   "outputs": [
    {
     "data": {
      "image/png": "[encoded data removed]",
      "text/plain": [
       "<Figure size 432x288 with 1 Axes>"
      ]
     },
     "metadata": {
      "needs_background": "light"
     },
     "output_type": "display_data"
    }
   ],
   "source": [
    "plt.bar(['F1','Balanced accuracy','AUC','Accuracy'],[np.mean(f1_lr), np.mean(b_acc_lr),np.mean(auc_lr), np.mean(acc_lr)])\n",
    "plt.yticks([0.1,0.2,0.3,0.4,0.5,0.6,0.7,0.8,0.9,1])\n",
    "plt.title('LogR Metric score (average)');"
   ]
  },
  {
   "cell_type": "code",
   "execution_count": 36,
   "metadata": {},
   "outputs": [],
   "source": [
    "lr = LogisticRegression(C = 150, max_iter=600)\n",
    "lr.fit(X_train,y_train)\n",
    "preds_lr = lr.predict(X_test)\n",
    "preds_prob_lr = lr.predict_proba(X_test)[:,1]\n",
    "fpr_lr, tpr_lr, tresholds_lr = roc_curve(y_test,preds_prob_lr)\n",
    "prec_lr, recall_lr, tresh_lr = precision_recall_curve(y_test,preds_prob_lr)\n",
    "auc_score_lr = roc_auc_score(y_test,preds_prob_lr)"
   ]
  },
  {
   "cell_type": "markdown",
   "metadata": {},
   "source": [
    "## RandomForest"
   ]
  },
  {
   "cell_type": "code",
   "execution_count": 37,
   "metadata": {},
   "outputs": [],
   "source": [
    "from sklearn.ensemble import RandomForestClassifier\n",
    "rf = RandomForestClassifier()"
   ]
  },
  {
   "cell_type": "code",
   "execution_count": 38,
   "metadata": {},
   "outputs": [
    {
     "name": "stdout",
     "output_type": "stream",
     "text": [
      "Metrics: f1\n",
      "Best params: {'n_estimators': 300, 'min_samples_leaf': 2, 'max_depth': 15}\n",
      "Best score: 0.5452829241512489\n",
      "Metrics: balanced_accuracy\n",
      "Best params: {'n_estimators': 500, 'min_samples_leaf': 2, 'max_depth': 30}\n",
      "Best score: 0.6777887073732468\n",
      "Metrics: accuracy\n",
      "Best params: {'n_estimators': 400, 'min_samples_leaf': 2, 'max_depth': 20}\n",
      "Best score: 0.9349217474147785\n",
      "Metrics: roc_auc\n",
      "Best params: {'n_estimators': 500, 'min_samples_leaf': 2, 'max_depth': 20}\n",
      "Best score: 0.8825520576755039\n"
     ]
    }
   ],
   "source": [
    "params = {'n_estimators' : [300,400,500],\n",
    "          'max_depth': [15,20,30],\n",
    "          'min_samples_leaf':[2,3]}\n",
    "\n",
    "for i in ['f1','balanced_accuracy','accuracy','roc_auc']:\n",
    "    rcv = RandomizedSearchCV(rf, param_distributions = params, cv=3,scoring = i,random_state=123)\n",
    "    rcv.fit(X_train,y_train)\n",
    "    print('Metrics: {}\\nBest params: {}\\nBest score: {}'.format(i,rcv.best_params_,rcv.best_score_))"
   ]
  },
  {
   "cell_type": "code",
   "execution_count": 39,
   "metadata": {},
   "outputs": [],
   "source": [
    "f1_rf = []\n",
    "b_acc_rf = []\n",
    "acc_rf = []\n",
    "auc_rf = []\n",
    "\n",
    "for i in ['f1','balanced_accuracy','accuracy','roc_auc']:\n",
    "    rf = RandomForestClassifier(n_estimators = 400, min_samples_leaf = 2, max_depth = 20)\n",
    "    metrics = cross_val_score(rf, X_train, y_train, cv = 10, scoring=i)\n",
    "    if i == 'f1':\n",
    "        f1_rf.append(metrics)\n",
    "    elif i == 'balanced_accuracy':\n",
    "        b_acc_rf.append(metrics)\n",
    "    elif i == 'roc_auc':\n",
    "        auc_rf.append(metrics)\n",
    "    else:\n",
    "        acc_rf.append(metrics)"
   ]
  },
  {
   "cell_type": "code",
   "execution_count": 40,
   "metadata": {},
   "outputs": [
    {
     "data": {
      "image/png": "[encoded data removed]",
      "text/plain": [
       "<Figure size 432x288 with 1 Axes>"
      ]
     },
     "metadata": {
      "needs_background": "light"
     },
     "output_type": "display_data"
    }
   ],
   "source": [
    "plt.bar(['F1','Balanced accuracy','AUC','Accuracy'],[np.mean(f1_rf), np.mean(b_acc_rf), np.mean(auc_rf),np.mean(acc_rf)])\n",
    "plt.yticks([0.1,0.2,0.3,0.4,0.5,0.6,0.7,0.8,0.9,1])\n",
    "plt.title('RF Metric score (average)');"
   ]
  },
  {
   "cell_type": "code",
   "execution_count": 41,
   "metadata": {},
   "outputs": [],
   "source": [
    "rf = RandomForestClassifier(n_estimators = 400, min_samples_leaf = 2, max_depth = 20)\n",
    "rf.fit(X_train,y_train)\n",
    "preds_rf = rf.predict(X_test)\n",
    "preds_prob_rf = rf.predict_proba(X_test)[:,1]\n",
    "fpr_rf, tpr_rf, tresholds_rf = roc_curve(y_test,preds_prob_rf)\n",
    "prec_rf, recall_rf, tresh_rf = precision_recall_curve(y_test,preds_prob_rf)\n",
    "auc_score_rf = roc_auc_score(y_test,preds_prob_rf)"
   ]
  },
  {
   "cell_type": "code",
   "execution_count": 42,
   "metadata": {},
   "outputs": [
    {
     "data": {
      "image/png": "[encoded data removed]",
      "text/plain": [
       "<Figure size 432x288 with 1 Axes>"
      ]
     },
     "metadata": {
      "needs_background": "light"
     },
     "output_type": "display_data"
    }
   ],
   "source": [
    "fi_df = pd.DataFrame(rf.feature_importances_, index = df_scaled.drop('churn',axis=1).columns, columns = ['feature_importance'])\n",
    "fi_df[fi_df.feature_importance>0.03].sort_values('feature_importance').plot(kind='barh');"
   ]
  },
  {
   "cell_type": "code",
   "execution_count": 43,
   "metadata": {},
   "outputs": [
    {
     "data": {
      "image/png": "[encoded data removed]",
      "text/plain": [
       "<Figure size 720x360 with 2 Axes>"
      ]
     },
     "metadata": {
      "needs_background": "light"
     },
     "output_type": "display_data"
    }
   ],
   "source": [
    "fig, [ax1,ax2] = plt.subplots(1,2)\n",
    "fig.set_size_inches(10,5)\n",
    "\n",
    "ax1.plot([0,1],'k--')\n",
    "ax1.plot(fpr_k_8,tpr_k_8,'c',label = 'KNC')\n",
    "ax1.plot(fpr_dt,tpr_dt,'b', label = 'DT')\n",
    "ax1.plot(fpr_lr,tpr_lr,'r', label = 'LogR')\n",
    "ax1.plot(fpr_rf,tpr_rf,'g', label = 'RF')\n",
    "ax1.set_xlabel('fpr')\n",
    "ax1.set_ylabel('tpr')\n",
    "ax1.set_title('ROC AUC Comparison', {'fontsize':15})\n",
    "ax1.legend()\n",
    "\n",
    "ax2.plot([1,0],'k--')\n",
    "ax2.plot(recall_k_8,prec_k_8,'c',label = 'KNC')\n",
    "ax2.plot(recall_dt,prec_dt,'b', label = 'DT')\n",
    "ax2.plot(recall_lr,prec_lr,'r', label = 'LogR')\n",
    "ax2.plot(recall_rf,prec_rf,'g', label = 'RF')\n",
    "ax2.set_xlabel('recall')\n",
    "ax2.set_ylabel('precision')\n",
    "ax2.set_title('ROC PRC Comparison', {'fontsize':15})\n",
    "ax2.legend();"
   ]
  },
  {
   "cell_type": "markdown",
   "metadata": {},
   "source": [
    "Since what matters most for a company is detecting clients who churn, we want to catch the ability to detect TPs while minimizing FNs. In this cases, similarly to medical issues, a FN is worse than a FP and that is why F1 score and ROC PRC would be good indicators. Although none of the models performed very high, the choice would be between Random Forest and Decision Tree algorithms"
   ]
  },
  {
   "cell_type": "markdown",
   "metadata": {},
   "source": [
    "Now loading the official kaggle test set and perform the same feature selection/engeeneering done in the train set"
   ]
  },
  {
   "cell_type": "code",
   "execution_count": 44,
   "metadata": {},
   "outputs": [
    {
     "data": {
      "text/html": [
       "<div>\n",
       "<style scoped>\n",
       "    .dataframe tbody tr th:only-of-type {\n",
       "        vertical-align: middle;\n",
       "    }\n",
       "\n",
       "    .dataframe tbody tr th {\n",
       "        vertical-align: top;\n",
       "    }\n",
       "\n",
       "    .dataframe thead th {\n",
       "        text-align: right;\n",
       "    }\n",
       "</style>\n",
       "<table border=\"1\" class=\"dataframe\">\n",
       "  <thead>\n",
       "    <tr style=\"text-align: right;\">\n",
       "      <th></th>\n",
       "      <th>id</th>\n",
       "      <th>state</th>\n",
       "      <th>account_length</th>\n",
       "      <th>area_code</th>\n",
       "      <th>international_plan</th>\n",
       "      <th>voice_mail_plan</th>\n",
       "      <th>number_vmail_messages</th>\n",
       "      <th>total_day_minutes</th>\n",
       "      <th>total_day_calls</th>\n",
       "      <th>total_day_charge</th>\n",
       "      <th>total_eve_minutes</th>\n",
       "      <th>total_eve_calls</th>\n",
       "      <th>total_eve_charge</th>\n",
       "      <th>total_night_minutes</th>\n",
       "      <th>total_night_calls</th>\n",
       "      <th>total_night_charge</th>\n",
       "      <th>total_intl_minutes</th>\n",
       "      <th>total_intl_calls</th>\n",
       "      <th>total_intl_charge</th>\n",
       "      <th>number_customer_service_calls</th>\n",
       "    </tr>\n",
       "  </thead>\n",
       "  <tbody>\n",
       "    <tr>\n",
       "      <th>0</th>\n",
       "      <td>1</td>\n",
       "      <td>KS</td>\n",
       "      <td>128</td>\n",
       "      <td>area_code_415</td>\n",
       "      <td>no</td>\n",
       "      <td>yes</td>\n",
       "      <td>25</td>\n",
       "      <td>265.1</td>\n",
       "      <td>110</td>\n",
       "      <td>45.07</td>\n",
       "      <td>197.4</td>\n",
       "      <td>99</td>\n",
       "      <td>16.78</td>\n",
       "      <td>244.7</td>\n",
       "      <td>91</td>\n",
       "      <td>11.01</td>\n",
       "      <td>10.0</td>\n",
       "      <td>3</td>\n",
       "      <td>2.70</td>\n",
       "      <td>1</td>\n",
       "    </tr>\n",
       "    <tr>\n",
       "      <th>1</th>\n",
       "      <td>2</td>\n",
       "      <td>AL</td>\n",
       "      <td>118</td>\n",
       "      <td>area_code_510</td>\n",
       "      <td>yes</td>\n",
       "      <td>no</td>\n",
       "      <td>0</td>\n",
       "      <td>223.4</td>\n",
       "      <td>98</td>\n",
       "      <td>37.98</td>\n",
       "      <td>220.6</td>\n",
       "      <td>101</td>\n",
       "      <td>18.75</td>\n",
       "      <td>203.9</td>\n",
       "      <td>118</td>\n",
       "      <td>9.18</td>\n",
       "      <td>6.3</td>\n",
       "      <td>6</td>\n",
       "      <td>1.70</td>\n",
       "      <td>0</td>\n",
       "    </tr>\n",
       "    <tr>\n",
       "      <th>2</th>\n",
       "      <td>3</td>\n",
       "      <td>IA</td>\n",
       "      <td>62</td>\n",
       "      <td>area_code_415</td>\n",
       "      <td>no</td>\n",
       "      <td>no</td>\n",
       "      <td>0</td>\n",
       "      <td>120.7</td>\n",
       "      <td>70</td>\n",
       "      <td>20.52</td>\n",
       "      <td>307.2</td>\n",
       "      <td>76</td>\n",
       "      <td>26.11</td>\n",
       "      <td>203.0</td>\n",
       "      <td>99</td>\n",
       "      <td>9.14</td>\n",
       "      <td>13.1</td>\n",
       "      <td>6</td>\n",
       "      <td>3.54</td>\n",
       "      <td>4</td>\n",
       "    </tr>\n",
       "    <tr>\n",
       "      <th>3</th>\n",
       "      <td>4</td>\n",
       "      <td>VT</td>\n",
       "      <td>93</td>\n",
       "      <td>area_code_510</td>\n",
       "      <td>no</td>\n",
       "      <td>no</td>\n",
       "      <td>0</td>\n",
       "      <td>190.7</td>\n",
       "      <td>114</td>\n",
       "      <td>32.42</td>\n",
       "      <td>218.2</td>\n",
       "      <td>111</td>\n",
       "      <td>18.55</td>\n",
       "      <td>129.6</td>\n",
       "      <td>121</td>\n",
       "      <td>5.83</td>\n",
       "      <td>8.1</td>\n",
       "      <td>3</td>\n",
       "      <td>2.19</td>\n",
       "      <td>3</td>\n",
       "    </tr>\n",
       "    <tr>\n",
       "      <th>4</th>\n",
       "      <td>5</td>\n",
       "      <td>NE</td>\n",
       "      <td>174</td>\n",
       "      <td>area_code_415</td>\n",
       "      <td>no</td>\n",
       "      <td>no</td>\n",
       "      <td>0</td>\n",
       "      <td>124.3</td>\n",
       "      <td>76</td>\n",
       "      <td>21.13</td>\n",
       "      <td>277.1</td>\n",
       "      <td>112</td>\n",
       "      <td>23.55</td>\n",
       "      <td>250.7</td>\n",
       "      <td>115</td>\n",
       "      <td>11.28</td>\n",
       "      <td>15.5</td>\n",
       "      <td>5</td>\n",
       "      <td>4.19</td>\n",
       "      <td>3</td>\n",
       "    </tr>\n",
       "  </tbody>\n",
       "</table>\n",
       "</div>"
      ],
      "text/plain": [
       "   id state  account_length      area_code international_plan voice_mail_plan  \\\n",
       "0   1    KS             128  area_code_415                 no             yes   \n",
       "1   2    AL             118  area_code_510                yes              no   \n",
       "2   3    IA              62  area_code_415                 no              no   \n",
       "3   4    VT              93  area_code_510                 no              no   \n",
       "4   5    NE             174  area_code_415                 no              no   \n",
       "\n",
       "   number_vmail_messages  total_day_minutes  total_day_calls  \\\n",
       "0                     25              265.1              110   \n",
       "1                      0              223.4               98   \n",
       "2                      0              120.7               70   \n",
       "3                      0              190.7              114   \n",
       "4                      0              124.3               76   \n",
       "\n",
       "   total_day_charge  total_eve_minutes  total_eve_calls  total_eve_charge  \\\n",
       "0             45.07              197.4               99             16.78   \n",
       "1             37.98              220.6              101             18.75   \n",
       "2             20.52              307.2               76             26.11   \n",
       "3             32.42              218.2              111             18.55   \n",
       "4             21.13              277.1              112             23.55   \n",
       "\n",
       "   total_night_minutes  total_night_calls  total_night_charge  \\\n",
       "0                244.7                 91               11.01   \n",
       "1                203.9                118                9.18   \n",
       "2                203.0                 99                9.14   \n",
       "3                129.6                121                5.83   \n",
       "4                250.7                115               11.28   \n",
       "\n",
       "   total_intl_minutes  total_intl_calls  total_intl_charge  \\\n",
       "0                10.0                 3               2.70   \n",
       "1                 6.3                 6               1.70   \n",
       "2                13.1                 6               3.54   \n",
       "3                 8.1                 3               2.19   \n",
       "4                15.5                 5               4.19   \n",
       "\n",
       "   number_customer_service_calls  \n",
       "0                              1  \n",
       "1                              0  \n",
       "2                              4  \n",
       "3                              3  \n",
       "4                              3  "
      ]
     },
     "execution_count": 44,
     "metadata": {},
     "output_type": "execute_result"
    }
   ],
   "source": [
    "test_off = pd.read_csv('test.csv')\n",
    "test_off.head()"
   ]
  },
  {
   "cell_type": "code",
   "execution_count": 45,
   "metadata": {},
   "outputs": [],
   "source": [
    "test_off = test_off.copy()\n",
    "test_off.drop(['total_day_charge','total_eve_charge','total_night_charge','total_intl_charge'],axis=1,inplace=True)"
   ]
  },
  {
   "cell_type": "code",
   "execution_count": 46,
   "metadata": {},
   "outputs": [],
   "source": [
    "test_off_scaled = test_off.drop('id',axis=1).copy()\n",
    "test_off_scaled[test_off_scaled.select_dtypes(['int64','float64']).columns] = scaler.fit_transform(test_off_scaled[test_off_scaled.select_dtypes(['int64','float64']).columns])"
   ]
  },
  {
   "cell_type": "code",
   "execution_count": 47,
   "metadata": {},
   "outputs": [],
   "source": [
    "test_off_scaled['international_plan'] = test_off_scaled.international_plan.apply(lambda x: 1 if x == 'yes' else 0)\n",
    "test_off_scaled['voice_mail_plan'] = test_off_scaled.voice_mail_plan.apply(lambda x: 1 if x == 'yes' else 0)"
   ]
  },
  {
   "cell_type": "code",
   "execution_count": 48,
   "metadata": {},
   "outputs": [],
   "source": [
    "test_off_scaled = pd.get_dummies(test_off_scaled)"
   ]
  },
  {
   "cell_type": "markdown",
   "metadata": {},
   "source": [
    "Now training the model on all the train set"
   ]
  },
  {
   "cell_type": "code",
   "execution_count": 49,
   "metadata": {},
   "outputs": [],
   "source": [
    "rf = RandomForestClassifier(n_estimators = 400, min_samples_leaf = 2, max_depth = 20)\n",
    "rf.fit(X,y)\n",
    "predictions = rf.predict(test_off_scaled.values)\n",
    "submit_df = pd.DataFrame(predictions,index=test_off.id, columns = ['Churn'])\n",
    "submit_df['Churn'] = submit_df.Churn.astype('int64').apply(lambda x: 'yes' if x == 1 else 'no')\n",
    "submit_df.to_csv('Submission for kaggle.csv')"
   ]
  }
 ],
 "metadata": {
  "kernelspec": {
   "display_name": "Python 3",
   "language": "python",
   "name": "python3"
  },
  "language_info": {
   "codemirror_mode": {
    "name": "ipython",
    "version": 3
   },
   "file_extension": ".py",
   "mimetype": "text/x-python",
   "name": "python",
   "nbconvert_exporter": "python",
   "pygments_lexer": "ipython3",
   "version": "3.8.5"
  }
 },
 "nbformat": 4,
 "nbformat_minor": 4
}
